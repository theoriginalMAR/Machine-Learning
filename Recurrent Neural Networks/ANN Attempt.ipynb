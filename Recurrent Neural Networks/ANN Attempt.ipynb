{
 "cells": [
  {
   "cell_type": "markdown",
   "id": "8beab5ea",
   "metadata": {},
   "source": [
    "# Recurrent Neural Network (Apple Stock Prices)"
   ]
  },
  {
   "cell_type": "markdown",
   "id": "736db0dc",
   "metadata": {},
   "source": [
    "### In this model, I will be making a recurrent neural network that has several LSTM layers, in an attempt to predict the Apple stock price for a certain day given the previous 100 days. Since stock prices follow a stocastic pattern, it is not easy to predict the exact stock price every day, but a RNN can at least predict the flow that the stock price follows. "
   ]
  },
  {
   "cell_type": "markdown",
   "id": "e7e82a48",
   "metadata": {},
   "source": [
    "## 1. Data Preprocessing"
   ]
  },
  {
   "cell_type": "code",
   "execution_count": 50,
   "id": "250d1b6d",
   "metadata": {},
   "outputs": [],
   "source": [
    "import numpy as np\n",
    "import matplotlib.pyplot as plt\n",
    "import pandas as pd\n",
    "import tensorflow as tf"
   ]
  },
  {
   "cell_type": "code",
   "execution_count": 51,
   "id": "591a4fb2",
   "metadata": {},
   "outputs": [],
   "source": [
    "training_dataset = pd.read_csv('HistoricalQuotes.csv')\n",
    "training_dataset = training_dataset.iloc[:,3:4].values"
   ]
  },
  {
   "cell_type": "markdown",
   "id": "7057d7c2",
   "metadata": {},
   "source": [
    "### Since the price entries are all string, we have to convert them into numbers first and then reverse their order so that the prices are listed chronological. For that, we can use the transform_array function"
   ]
  },
  {
   "cell_type": "code",
   "execution_count": 57,
   "id": "546c3913",
   "metadata": {},
   "outputs": [],
   "source": [
    "from re import sub\n",
    "\n",
    "def transform_array(training_dataset):\n",
    "    for arr in training_dataset:\n",
    "        num_wo_dollarsign = sub(r'[^\\d.]', '', arr[0])\n",
    "        arr[0] = float(num_wo_dollarsign)\n",
    "    training_dataset.reshape(2518)\n",
    "    training_dataset = np.flip(training_dataset)\n",
    "    training_dataset.reshape(2518, 1)\n",
    "    return training_dataset"
   ]
  },
  {
   "cell_type": "code",
   "execution_count": 6,
   "id": "0da9a96f",
   "metadata": {},
   "outputs": [
    {
     "data": {
      "text/plain": [
       "array([[29.3928],\n",
       "       [29.99],\n",
       "       [29.8486],\n",
       "       ...,\n",
       "       [286.53],\n",
       "       [281.1],\n",
       "       [257.26]], dtype=object)"
      ]
     },
     "execution_count": 6,
     "metadata": {},
     "output_type": "execute_result"
    }
   ],
   "source": [
    "training_dataset = transform_array(training_dataset)\n",
    "full_dataset = training_dataset"
   ]
  },
  {
   "cell_type": "markdown",
   "id": "68147080",
   "metadata": {},
   "source": [
    "### We will also take the last 50 price entries from the training dataset and use that as our test set. We will need the full dataset for future application, so we will store it in a variable called 'full_dataset'. We will also scale the stock prices for traning purposes."
   ]
  },
  {
   "cell_type": "code",
   "execution_count": 9,
   "id": "ca4ee7f7",
   "metadata": {},
   "outputs": [],
   "source": [
    "test_dataset = training_dataset[len(training_dataset)-50:len(training_dataset), :]\n",
    "training_dataset = training_dataset[0:len(training_dataset)-50, :]"
   ]
  },
  {
   "cell_type": "code",
   "execution_count": 10,
   "id": "74bbdf6a",
   "metadata": {},
   "outputs": [
    {
     "data": {
      "text/plain": [
       "50"
      ]
     },
     "execution_count": 10,
     "metadata": {},
     "output_type": "execute_result"
    }
   ],
   "source": [
    "len(test_dataset)\n",
    "#delete"
   ]
  },
  {
   "cell_type": "code",
   "execution_count": 11,
   "id": "c40b35c2",
   "metadata": {},
   "outputs": [],
   "source": [
    "from sklearn.preprocessing import MinMaxScaler\n",
    "sc = MinMaxScaler(feature_range = (0, 1))\n",
    "training_dataset = sc.fit_transform(training_dataset)"
   ]
  },
  {
   "cell_type": "code",
   "execution_count": 12,
   "id": "c7b91025",
   "metadata": {},
   "outputs": [
    {
     "data": {
      "text/plain": [
       "array([[0.00241188],\n",
       "       [0.00184082],\n",
       "       [0.00203669],\n",
       "       [0.00530235]])"
      ]
     },
     "execution_count": 12,
     "metadata": {},
     "output_type": "execute_result"
    }
   ],
   "source": [
    "training_dataset[1:5]\n",
    "#delete"
   ]
  },
  {
   "cell_type": "code",
   "execution_count": 13,
   "id": "49afc773",
   "metadata": {},
   "outputs": [
    {
     "data": {
      "text/plain": [
       "2468"
      ]
     },
     "execution_count": 13,
     "metadata": {},
     "output_type": "execute_result"
    }
   ],
   "source": [
    "len(training_dataset)\n",
    "#delete"
   ]
  },
  {
   "cell_type": "markdown",
   "id": "e80c2201",
   "metadata": {},
   "source": [
    "### In order to train our RNN, we will need the 100 previous stock prices to determine the current stock price. X_train will be a 2D array, where the i th entry is an array of the 100 previous stock prices corresponding to the i th entry of y_train. We will then reshape X_train to become compatible with the model, where len(X_train) is the number of observasions, len(X_train[0]) is the number of columns and 1 is the number of indicators."
   ]
  },
  {
   "cell_type": "code",
   "execution_count": 14,
   "id": "71d6e1f3",
   "metadata": {},
   "outputs": [],
   "source": [
    "X_train = []\n",
    "y_train = []\n",
    "for i in range(100,len(training_dataset)):\n",
    "    X_train.append(training_dataset[i-100:i,0])\n",
    "    y_train.append(training_dataset[i,0])\n",
    "    \n",
    "X_train, y_train = np.array(X_train), np.array(y_train)\n",
    "X_train = np.reshape(X_train, (len(X_train),len(X_train[0]),1))"
   ]
  },
  {
   "cell_type": "code",
   "execution_count": 15,
   "id": "8dbe16c9",
   "metadata": {},
   "outputs": [],
   "source": [
    "X_train, y_train = np.array(X_train), np.array(y_train)\n",
    "#delete"
   ]
  },
  {
   "cell_type": "code",
   "execution_count": 16,
   "id": "037221d7",
   "metadata": {},
   "outputs": [
    {
     "data": {
      "text/plain": [
       "100"
      ]
     },
     "execution_count": 16,
     "metadata": {},
     "output_type": "execute_result"
    }
   ],
   "source": [
    "X_train.shape[1]\n",
    "#delete"
   ]
  },
  {
   "cell_type": "code",
   "execution_count": 17,
   "id": "5813e04f",
   "metadata": {},
   "outputs": [],
   "source": [
    "X_train = np.reshape(X_train, (len(X_train),len(X_train[0]),1))\n",
    "#delete"
   ]
  },
  {
   "cell_type": "code",
   "execution_count": 18,
   "id": "cff4e86a",
   "metadata": {},
   "outputs": [
    {
     "data": {
      "text/plain": [
       "array([[[0.        ],\n",
       "        [0.00241188],\n",
       "        [0.00184082],\n",
       "        ...,\n",
       "        [0.02546089],\n",
       "        [0.02143395],\n",
       "        [0.03423648]],\n",
       "\n",
       "       [[0.00241188],\n",
       "        [0.00184082],\n",
       "        [0.00203669],\n",
       "        ...,\n",
       "        [0.02143395],\n",
       "        [0.03423648],\n",
       "        [0.02996116]],\n",
       "\n",
       "       [[0.00184082],\n",
       "        [0.00203669],\n",
       "        [0.00530235],\n",
       "        ...,\n",
       "        [0.03423648],\n",
       "        [0.02996116],\n",
       "        [0.02962071]],\n",
       "\n",
       "       ...,\n",
       "\n",
       "       [[0.7231906 ],\n",
       "        [0.72000006],\n",
       "        [0.72492722],\n",
       "        ...,\n",
       "        [0.97172942],\n",
       "        [0.9660753 ],\n",
       "        [0.96692342]],\n",
       "\n",
       "       [[0.72000006],\n",
       "        [0.72492722],\n",
       "        [0.71923272],\n",
       "        ...,\n",
       "        [0.9660753 ],\n",
       "        [0.96692342],\n",
       "        [0.9627636 ]],\n",
       "\n",
       "       [[0.72492722],\n",
       "        [0.71923272],\n",
       "        [0.7231906 ],\n",
       "        ...,\n",
       "        [0.96692342],\n",
       "        [0.9627636 ],\n",
       "        [0.97762585]]])"
      ]
     },
     "execution_count": 18,
     "metadata": {},
     "output_type": "execute_result"
    }
   ],
   "source": [
    "X_train\n",
    "#delete"
   ]
  },
  {
   "cell_type": "markdown",
   "id": "ee585390",
   "metadata": {},
   "source": [
    "## 2. Building & compiling the RNN"
   ]
  },
  {
   "cell_type": "code",
   "execution_count": 19,
   "id": "51a4aa8a",
   "metadata": {},
   "outputs": [],
   "source": [
    "from keras.models import Sequential\n",
    "from keras.layers import Dense\n",
    "from keras.layers import LSTM\n",
    "from keras.layers import Dropout"
   ]
  },
  {
   "cell_type": "code",
   "execution_count": 20,
   "id": "dec0efef",
   "metadata": {},
   "outputs": [],
   "source": [
    "rnn = tf.keras.models.Sequential()"
   ]
  },
  {
   "cell_type": "code",
   "execution_count": 21,
   "id": "0e1a38bb",
   "metadata": {},
   "outputs": [],
   "source": [
    "rnn.add(LSTM(units = 50, return_sequences = True, input_shape = (len(X_train[0]),1)))\n",
    "rnn.add(Dropout(0.2))"
   ]
  },
  {
   "cell_type": "code",
   "execution_count": 22,
   "id": "2e5d36a7",
   "metadata": {},
   "outputs": [],
   "source": [
    "rnn.add(LSTM(units = 50, return_sequences = True))\n",
    "rnn.add(Dropout(0.2))"
   ]
  },
  {
   "cell_type": "code",
   "execution_count": 23,
   "id": "b18eabcd",
   "metadata": {},
   "outputs": [],
   "source": [
    "rnn.add(LSTM(units = 50, return_sequences = True))\n",
    "rnn.add(Dropout(0.2))"
   ]
  },
  {
   "cell_type": "code",
   "execution_count": 24,
   "id": "5b31c393",
   "metadata": {},
   "outputs": [],
   "source": [
    "rnn.add(LSTM(units = 50, return_sequences = True))\n",
    "rnn.add(Dropout(0.2))"
   ]
  },
  {
   "cell_type": "code",
   "execution_count": 25,
   "id": "2d5197ab",
   "metadata": {},
   "outputs": [],
   "source": [
    "rnn.add(LSTM(units = 50))\n",
    "rnn.add(Dropout(0.2))"
   ]
  },
  {
   "cell_type": "code",
   "execution_count": 26,
   "id": "fefcc0ff",
   "metadata": {},
   "outputs": [],
   "source": [
    "rnn.add(Dense(units=1))"
   ]
  },
  {
   "cell_type": "code",
   "execution_count": 27,
   "id": "46b83fae",
   "metadata": {
    "scrolled": false
   },
   "outputs": [
    {
     "name": "stdout",
     "output_type": "stream",
     "text": [
      "Epoch 1/100\n",
      "74/74 [==============================] - 8s 80ms/step - loss: 0.0114\n",
      "Epoch 2/100\n",
      "74/74 [==============================] - 6s 83ms/step - loss: 0.0028\n",
      "Epoch 3/100\n",
      "74/74 [==============================] - 6s 82ms/step - loss: 0.0026\n",
      "Epoch 4/100\n",
      "74/74 [==============================] - 6s 77ms/step - loss: 0.0026\n",
      "Epoch 5/100\n",
      "74/74 [==============================] - 6s 77ms/step - loss: 0.0023\n",
      "Epoch 6/100\n",
      "74/74 [==============================] - 7s 89ms/step - loss: 0.0021\n",
      "Epoch 7/100\n",
      "74/74 [==============================] - 5s 74ms/step - loss: 0.0022\n",
      "Epoch 8/100\n",
      "74/74 [==============================] - 5s 72ms/step - loss: 0.0019\n",
      "Epoch 9/100\n",
      "74/74 [==============================] - 5s 72ms/step - loss: 0.0019\n",
      "Epoch 10/100\n",
      "74/74 [==============================] - 5s 71ms/step - loss: 0.0018\n",
      "Epoch 11/100\n",
      "74/74 [==============================] - 6s 75ms/step - loss: 0.0015\n",
      "Epoch 12/100\n",
      "74/74 [==============================] - 6s 83ms/step - loss: 0.0017\n",
      "Epoch 13/100\n",
      "74/74 [==============================] - 6s 78ms/step - loss: 0.0015\n",
      "Epoch 14/100\n",
      "74/74 [==============================] - 5s 72ms/step - loss: 0.0015\n",
      "Epoch 15/100\n",
      "74/74 [==============================] - 6s 84ms/step - loss: 0.0015\n",
      "Epoch 16/100\n",
      "74/74 [==============================] - 5s 72ms/step - loss: 0.0014\n",
      "Epoch 17/100\n",
      "74/74 [==============================] - 5s 71ms/step - loss: 0.0014\n",
      "Epoch 18/100\n",
      "74/74 [==============================] - 6s 75ms/step - loss: 0.0018\n",
      "Epoch 19/100\n",
      "74/74 [==============================] - 6s 79ms/step - loss: 0.0013\n",
      "Epoch 20/100\n",
      "74/74 [==============================] - 6s 79ms/step - loss: 0.0012\n",
      "Epoch 21/100\n",
      "74/74 [==============================] - 6s 82ms/step - loss: 0.0013\n",
      "Epoch 22/100\n",
      "74/74 [==============================] - 5s 74ms/step - loss: 0.0011\n",
      "Epoch 23/100\n",
      "74/74 [==============================] - 5s 73ms/step - loss: 0.0011\n",
      "Epoch 24/100\n",
      "74/74 [==============================] - 5s 72ms/step - loss: 0.0011\n",
      "Epoch 25/100\n",
      "74/74 [==============================] - 6s 75ms/step - loss: 0.0011\n",
      "Epoch 26/100\n",
      "74/74 [==============================] - 6s 78ms/step - loss: 9.9806e-04\n",
      "Epoch 27/100\n",
      "74/74 [==============================] - 6s 75ms/step - loss: 0.0011\n",
      "Epoch 28/100\n",
      "74/74 [==============================] - 5s 73ms/step - loss: 0.0014\n",
      "Epoch 29/100\n",
      "74/74 [==============================] - 5s 72ms/step - loss: 9.8685e-04\n",
      "Epoch 30/100\n",
      "74/74 [==============================] - 5s 72ms/step - loss: 0.0010\n",
      "Epoch 31/100\n",
      "74/74 [==============================] - 5s 72ms/step - loss: 0.0010\n",
      "Epoch 32/100\n",
      "74/74 [==============================] - 5s 72ms/step - loss: 9.6186e-04\n",
      "Epoch 33/100\n",
      "74/74 [==============================] - 5s 72ms/step - loss: 0.0011\n",
      "Epoch 34/100\n",
      "74/74 [==============================] - 5s 72ms/step - loss: 9.4407e-04\n",
      "Epoch 35/100\n",
      "74/74 [==============================] - 5s 73ms/step - loss: 9.4425e-04\n",
      "Epoch 36/100\n",
      "74/74 [==============================] - 5s 74ms/step - loss: 0.0010\n",
      "Epoch 37/100\n",
      "74/74 [==============================] - 6s 82ms/step - loss: 0.0010\n",
      "Epoch 38/100\n",
      "74/74 [==============================] - 7s 91ms/step - loss: 8.6560e-04\n",
      "Epoch 39/100\n",
      "74/74 [==============================] - 7s 95ms/step - loss: 9.0345e-04\n",
      "Epoch 40/100\n",
      "74/74 [==============================] - 6s 85ms/step - loss: 9.2994e-04\n",
      "Epoch 41/100\n",
      "74/74 [==============================] - 6s 80ms/step - loss: 8.8506e-04\n",
      "Epoch 42/100\n",
      "74/74 [==============================] - 6s 84ms/step - loss: 8.1827e-04\n",
      "Epoch 43/100\n",
      "74/74 [==============================] - 6s 83ms/step - loss: 8.3958e-04\n",
      "Epoch 44/100\n",
      "74/74 [==============================] - 6s 82ms/step - loss: 8.5153e-04\n",
      "Epoch 45/100\n",
      "74/74 [==============================] - 6s 83ms/step - loss: 8.6109e-04\n",
      "Epoch 46/100\n",
      "74/74 [==============================] - 7s 91ms/step - loss: 8.2997e-04\n",
      "Epoch 47/100\n",
      "74/74 [==============================] - 6s 85ms/step - loss: 8.9597e-04\n",
      "Epoch 48/100\n",
      "74/74 [==============================] - 5s 74ms/step - loss: 8.3308e-04\n",
      "Epoch 49/100\n",
      "74/74 [==============================] - 5s 73ms/step - loss: 8.6000e-04\n",
      "Epoch 50/100\n",
      "74/74 [==============================] - 5s 74ms/step - loss: 6.7596e-04\n",
      "Epoch 51/100\n",
      "74/74 [==============================] - 5s 73ms/step - loss: 7.6171e-04\n",
      "Epoch 52/100\n",
      "74/74 [==============================] - 6s 75ms/step - loss: 7.1607e-04\n",
      "Epoch 53/100\n",
      "74/74 [==============================] - 6s 80ms/step - loss: 7.8231e-04\n",
      "Epoch 54/100\n",
      "74/74 [==============================] - 6s 81ms/step - loss: 6.9823e-04\n",
      "Epoch 55/100\n",
      "74/74 [==============================] - 6s 82ms/step - loss: 7.7488e-04\n",
      "Epoch 56/100\n",
      "74/74 [==============================] - 6s 76ms/step - loss: 8.2203e-04\n",
      "Epoch 57/100\n",
      "74/74 [==============================] - 6s 75ms/step - loss: 7.5823e-04\n",
      "Epoch 58/100\n",
      "74/74 [==============================] - 5s 74ms/step - loss: 7.0991e-04\n",
      "Epoch 59/100\n",
      "74/74 [==============================] - 6s 80ms/step - loss: 6.4370e-04\n",
      "Epoch 60/100\n",
      "74/74 [==============================] - 6s 87ms/step - loss: 7.2284e-04\n",
      "Epoch 61/100\n",
      "74/74 [==============================] - 6s 78ms/step - loss: 7.6848e-04\n",
      "Epoch 62/100\n",
      "74/74 [==============================] - 6s 79ms/step - loss: 6.9711e-04\n",
      "Epoch 63/100\n",
      "74/74 [==============================] - 6s 82ms/step - loss: 6.7435e-04\n",
      "Epoch 64/100\n",
      "74/74 [==============================] - 8s 106ms/step - loss: 6.2549e-04\n",
      "Epoch 65/100\n",
      "74/74 [==============================] - 6s 87ms/step - loss: 7.0689e-04\n",
      "Epoch 66/100\n",
      "74/74 [==============================] - 7s 94ms/step - loss: 7.0522e-04\n",
      "Epoch 67/100\n",
      "74/74 [==============================] - 7s 90ms/step - loss: 6.6210e-04\n",
      "Epoch 68/100\n",
      "74/74 [==============================] - 6s 85ms/step - loss: 6.3704e-04\n",
      "Epoch 69/100\n",
      "74/74 [==============================] - 7s 88ms/step - loss: 6.5009e-04\n",
      "Epoch 70/100\n",
      "74/74 [==============================] - 7s 96ms/step - loss: 6.7256e-04\n",
      "Epoch 71/100\n",
      "74/74 [==============================] - 6s 79ms/step - loss: 6.7360e-04\n",
      "Epoch 72/100\n",
      "74/74 [==============================] - 6s 77ms/step - loss: 6.2337e-04\n",
      "Epoch 73/100\n",
      "74/74 [==============================] - 5s 74ms/step - loss: 6.4736e-04\n",
      "Epoch 74/100\n",
      "74/74 [==============================] - 6s 80ms/step - loss: 7.0210e-04\n",
      "Epoch 75/100\n",
      "74/74 [==============================] - 6s 77ms/step - loss: 6.9513e-04\n",
      "Epoch 76/100\n",
      "74/74 [==============================] - 6s 75ms/step - loss: 6.3125e-04\n",
      "Epoch 77/100\n",
      "74/74 [==============================] - 5s 74ms/step - loss: 6.8587e-04\n",
      "Epoch 78/100\n",
      "74/74 [==============================] - 6s 75ms/step - loss: 6.0944e-04\n",
      "Epoch 79/100\n",
      "74/74 [==============================] - 6s 75ms/step - loss: 6.0332e-04\n",
      "Epoch 80/100\n",
      "74/74 [==============================] - 6s 77ms/step - loss: 6.3762e-04\n",
      "Epoch 81/100\n",
      "74/74 [==============================] - 5s 74ms/step - loss: 5.9071e-04\n",
      "Epoch 82/100\n",
      "74/74 [==============================] - 6s 75ms/step - loss: 6.2603e-04\n",
      "Epoch 83/100\n",
      "74/74 [==============================] - 6s 75ms/step - loss: 5.7568e-04\n",
      "Epoch 84/100\n",
      "74/74 [==============================] - 5s 74ms/step - loss: 5.6939e-04\n",
      "Epoch 85/100\n",
      "74/74 [==============================] - 5s 74ms/step - loss: 6.6393e-04\n",
      "Epoch 86/100\n",
      "74/74 [==============================] - 6s 75ms/step - loss: 7.6009e-04\n",
      "Epoch 87/100\n",
      "74/74 [==============================] - 5s 73ms/step - loss: 6.6301e-04\n",
      "Epoch 88/100\n",
      "74/74 [==============================] - 5s 74ms/step - loss: 5.9327e-04\n",
      "Epoch 89/100\n",
      "74/74 [==============================] - 5s 73ms/step - loss: 6.4469e-04\n",
      "Epoch 90/100\n",
      "74/74 [==============================] - 5s 73ms/step - loss: 5.8750e-04\n",
      "Epoch 91/100\n",
      "74/74 [==============================] - 5s 74ms/step - loss: 6.4130e-04\n",
      "Epoch 92/100\n",
      "74/74 [==============================] - 5s 74ms/step - loss: 6.1878e-04\n",
      "Epoch 93/100\n",
      "74/74 [==============================] - 5s 74ms/step - loss: 6.5023e-04\n",
      "Epoch 94/100\n",
      "74/74 [==============================] - 5s 74ms/step - loss: 6.2181e-04\n",
      "Epoch 95/100\n",
      "74/74 [==============================] - 5s 73ms/step - loss: 5.8128e-04\n",
      "Epoch 96/100\n",
      "74/74 [==============================] - 5s 74ms/step - loss: 6.0974e-04\n",
      "Epoch 97/100\n"
     ]
    },
    {
     "name": "stdout",
     "output_type": "stream",
     "text": [
      "74/74 [==============================] - 5s 74ms/step - loss: 6.8140e-04\n",
      "Epoch 98/100\n",
      "74/74 [==============================] - 5s 74ms/step - loss: 6.1600e-04\n",
      "Epoch 99/100\n",
      "74/74 [==============================] - 5s 74ms/step - loss: 7.2379e-04\n",
      "Epoch 100/100\n",
      "74/74 [==============================] - 5s 74ms/step - loss: 5.9699e-04\n"
     ]
    },
    {
     "data": {
      "text/plain": [
       "<keras.src.callbacks.History at 0x28aa08e50>"
      ]
     },
     "execution_count": 27,
     "metadata": {},
     "output_type": "execute_result"
    }
   ],
   "source": [
    "rnn.compile(optimizer = 'adam', loss = 'mean_squared_error')\n",
    "rnn.fit(X_train, y_train, epochs = 100, batch_size = 32)"
   ]
  },
  {
   "cell_type": "markdown",
   "id": "ea8df065",
   "metadata": {},
   "source": [
    "## 3. Testing Model by Predicting Prices "
   ]
  },
  {
   "cell_type": "markdown",
   "id": "5a1c90db",
   "metadata": {},
   "source": [
    "### In order to predict each stock price, we'll need the 100 respective previous stock prices, and hence, we will use the full_dataset, since some of the 100 prices for the test_dataset are in the training_dataset. Inputs will store from 100 stock prices prior to the test_dataset days. X_test will store the 50 arrays (for the 50 stock prices we are trying to predict), and each array will contain 100 stock prices prior to the predicted date. We will store the predicted stock prices in 'predicted_prices' and we will use the 'inverse_transform' function to denormalize the values and plot the predicted prices and the actual prices"
   ]
  },
  {
   "cell_type": "code",
   "execution_count": 29,
   "id": "95cdb12b",
   "metadata": {},
   "outputs": [],
   "source": [
    "inputs = full_dataset[len(full_dataset) - len(test_dataset) - 100:]\n",
    "inputs = sc.transform(inputs)\n",
    "X_test = []\n",
    "\n",
    "for i in range(100,150):\n",
    "    X_test.append(inputs[i-100:i,0])\n",
    "    \n",
    "X_test = np.reshape(X_test, (len(X_test), len(X_test[0]),1))\n",
    "predicted_prices = rnn.predict(X_test)\n",
    "predicted_prices = sc.inverse_transform(predicted_prices)"
   ]
  },
  {
   "cell_type": "code",
   "execution_count": 48,
   "id": "43a5c2c5",
   "metadata": {},
   "outputs": [
    {
     "data": {
      "text/plain": [
       "array([[279.57],\n",
       "       [279.8],\n",
       "       [279.5],\n",
       "       [282.23],\n",
       "       [280.53],\n",
       "       [284.69],\n",
       "       [284.82],\n",
       "       [291.12],\n",
       "       [289.46],\n",
       "       [289.93],\n",
       "       [296.24],\n",
       "       [297.15],\n",
       "       [293.79],\n",
       "       [299.84],\n",
       "       [297.16],\n",
       "       [307.235],\n",
       "       [310.6],\n",
       "       [311.64],\n",
       "       [316.7],\n",
       "       [311.85],\n",
       "       [313.59],\n",
       "       [316.27],\n",
       "       [317.19],\n",
       "       [318.58],\n",
       "       [317.92],\n",
       "       [320.25],\n",
       "       [310.06],\n",
       "       [312.6],\n",
       "       [324.45],\n",
       "       [320.544],\n",
       "       [320.93],\n",
       "       [304.3],\n",
       "       [315.31],\n",
       "       [323.52],\n",
       "       [322.57],\n",
       "       [322.37],\n",
       "       [314.18],\n",
       "       [323.6],\n",
       "       [321.47],\n",
       "       [324.19],\n",
       "       [324.74],\n",
       "       [315.36],\n",
       "       [320.0],\n",
       "       [322.63],\n",
       "       [318.62],\n",
       "       [297.26],\n",
       "       [300.95],\n",
       "       [286.53],\n",
       "       [281.1],\n",
       "       [257.26]], dtype=object)"
      ]
     },
     "execution_count": 48,
     "metadata": {},
     "output_type": "execute_result"
    }
   ],
   "source": [
    "test_dataset"
   ]
  },
  {
   "cell_type": "code",
   "execution_count": 49,
   "id": "831aa533",
   "metadata": {},
   "outputs": [
    {
     "data": {
      "image/png": "[encoded data removed]",
      "text/plain": [
       "<Figure size 432x288 with 1 Axes>"
      ]
     },
     "metadata": {
      "needs_background": "light"
     },
     "output_type": "display_data"
    }
   ],
   "source": [
    "plt.plot(test_dataset, color = 'red', label = 'Real Apple Stock Price')\n",
    "plt.plot(predicted_prices, color = 'blue', label = 'Predicted Apple Stock Price')\n",
    "plt.title('Apple Stock Price Prediction')\n",
    "plt.xlabel('Time')\n",
    "plt.ylabel('Apple Stock Price')\n",
    "plt.legend()\n",
    "plt.show()"
   ]
  },
  {
   "cell_type": "markdown",
   "id": "2cc6e45a",
   "metadata": {},
   "source": [
    "### As you can see, the predicted prices may not be exact to the real stock prices, since real stock prices are stochastic, but the predicted values are able to follow the trend of the real prices and runs parallel to it, with exception of outliers"
   ]
  },
  {
   "cell_type": "code",
   "execution_count": null,
   "id": "55252459",
   "metadata": {},
   "outputs": [],
   "source": []
  }
 ],
 "metadata": {
  "kernelspec": {
   "display_name": "Python 3 (ipykernel)",
   "language": "python",
   "name": "python3"
  },
  "language_info": {
   "codemirror_mode": {
    "name": "ipython",
    "version": 3
   },
   "file_extension": ".py",
   "mimetype": "text/x-python",
   "name": "python",
   "nbconvert_exporter": "python",
   "pygments_lexer": "ipython3",
   "version": "3.8.9"
  }
 },
 "nbformat": 4,
 "nbformat_minor": 5
}
